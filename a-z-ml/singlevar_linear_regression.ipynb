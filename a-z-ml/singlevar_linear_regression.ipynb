{
 "metadata": {
  "language_info": {
   "codemirror_mode": {
    "name": "ipython",
    "version": 3
   },
   "file_extension": ".py",
   "mimetype": "text/x-python",
   "name": "python",
   "nbconvert_exporter": "python",
   "pygments_lexer": "ipython3",
   "version": "3.9.0-final"
  },
  "orig_nbformat": 2,
  "kernelspec": {
   "name": "python3",
   "display_name": "Python 3"
  }
 },
 "nbformat": 4,
 "nbformat_minor": 2,
 "cells": [
  {
   "cell_type": "code",
   "execution_count": 13,
   "metadata": {},
   "outputs": [],
   "source": [
    "import pickle\n",
    "import numpy as np\n",
    "import matplotlib.pyplot as plt\n",
    "import seaborn as sns\n",
    "from sklearn.linear_model import LinearRegression\n",
    "from sklearn.metrics import mean_absolute_error, mean_squared_error, median_absolute_error, explained_variance_score, r2_score\n",
    "from sklearn.model_selection import train_test_split\n",
    "%matplotlib inline"
   ]
  },
  {
   "cell_type": "code",
   "execution_count": 14,
   "metadata": {},
   "outputs": [
    {
     "output_type": "execute_result",
     "data": {
      "text/plain": [
       "array([[-0.86,  4.38],\n",
       "       [ 2.58,  6.97],\n",
       "       [ 4.17,  7.01],\n",
       "       [ 2.6 ,  5.44],\n",
       "       [ 5.13,  6.45]])"
      ]
     },
     "metadata": {},
     "execution_count": 14
    }
   ],
   "source": [
    "data = np.loadtxt(\"../input/data_singlevar_regr.txt\", delimiter=\",\")\n",
    "data[:5]"
   ]
  },
  {
   "cell_type": "code",
   "execution_count": 15,
   "metadata": {},
   "outputs": [],
   "source": [
    "X = data[:, :-1]\n",
    "y = data[:, -1]\n",
    "\n",
    "X_train, X_test, y_train, y_test = train_test_split(X, y)"
   ]
  },
  {
   "cell_type": "code",
   "execution_count": 16,
   "metadata": {},
   "outputs": [
    {
     "output_type": "execute_result",
     "data": {
      "text/plain": [
       "LinearRegression()"
      ]
     },
     "metadata": {},
     "execution_count": 16
    }
   ],
   "source": [
    "model = LinearRegression()\n",
    "model.fit(X_train, y_train)"
   ]
  },
  {
   "cell_type": "code",
   "execution_count": 17,
   "metadata": {},
   "outputs": [
    {
     "output_type": "execute_result",
     "data": {
      "text/plain": [
       "array([3.28750065, 1.22876433, 1.14460216, 3.85073983, 3.15802037,\n",
       "       6.16196267, 0.32887645, 4.24565465, 3.77305166, 4.87363397,\n",
       "       2.43293085, 4.27155071, 1.05396597, 3.70831153, 5.74115179])"
      ]
     },
     "metadata": {},
     "execution_count": 17
    }
   ],
   "source": [
    "y_pred = model.predict(X_test)\n",
    "y_pred"
   ]
  },
  {
   "cell_type": "code",
   "execution_count": 18,
   "metadata": {},
   "outputs": [
    {
     "output_type": "display_data",
     "data": {
      "text/plain": "<Figure size 432x288 with 1 Axes>",
      "image/svg+xml": "<?xml version=\"1.0\" encoding=\"utf-8\" standalone=\"no\"?>\n<!DOCTYPE svg PUBLIC \"-//W3C//DTD SVG 1.1//EN\"\n  \"http://www.w3.org/Graphics/SVG/1.1/DTD/svg11.dtd\">\n<!-- Created with matplotlib (https://matplotlib.org/) -->\n<svg height=\"235.34pt\" version=\"1.1\" viewBox=\"0 0 352.7 235.34\" width=\"352.7pt\" xmlns=\"http://www.w3.org/2000/svg\" xmlns:xlink=\"http://www.w3.org/1999/xlink\">\n <metadata>\n  <rdf:RDF xmlns:cc=\"http://creativecommons.org/ns#\" xmlns:dc=\"http://purl.org/dc/elements/1.1/\" xmlns:rdf=\"http://www.w3.org/1999/02/22-rdf-syntax-ns#\">\n   <cc:Work>\n    <dc:type rdf:resource=\"http://purl.org/dc/dcmitype/StillImage\"/>\n    <dc:date>2020-11-23T10:28:58.024526</dc:date>\n    <dc:format>image/svg+xml</dc:format>\n    <dc:creator>\n     <cc:Agent>\n      <dc:title>Matplotlib v3.3.3, https://matplotlib.org/</dc:title>\n     </cc:Agent>\n    </dc:creator>\n   </cc:Work>\n  </rdf:RDF>\n </metadata>\n <defs>\n  <style type=\"text/css\">*{stroke-linecap:butt;stroke-linejoin:round;}</style>\n </defs>\n <g id=\"figure_1\">\n  <g id=\"patch_1\">\n   <path d=\"M 0 235.34 \nL 352.7 235.34 \nL 352.7 0 \nL 0 0 \nz\n\" style=\"fill:none;\"/>\n  </g>\n  <g id=\"axes_1\">\n   <g id=\"patch_2\">\n    <path d=\"M 10.7 224.64 \nL 345.5 224.64 \nL 345.5 7.2 \nL 10.7 7.2 \nz\n\" style=\"fill:#ffffff;\"/>\n   </g>\n   <g id=\"PathCollection_1\">\n    <defs>\n     <path d=\"M 0 3 \nC 0.795609 3 1.55874 2.683901 2.12132 2.12132 \nC 2.683901 1.55874 3 0.795609 3 0 \nC 3 -0.795609 2.683901 -1.55874 2.12132 -2.12132 \nC 1.55874 -2.683901 0.795609 -3 0 -3 \nC -0.795609 -3 -1.55874 -2.683901 -2.12132 -2.12132 \nC -2.683901 -1.55874 -3 -0.795609 -3 0 \nC -3 0.795609 -2.683901 1.55874 -2.12132 2.12132 \nC -1.55874 2.683901 -0.795609 3 0 3 \nz\n\" id=\"m9865819aa8\" style=\"stroke:#ffffff;stroke-width:0.48;\"/>\n    </defs>\n    <g clip-path=\"url(#p710108ba88)\">\n     <use style=\"fill:#1f77b4;stroke:#ffffff;stroke-width:0.48;\" x=\"180.295742\" xlink:href=\"#m9865819aa8\" y=\"131.722326\"/>\n     <use style=\"fill:#1f77b4;stroke:#ffffff;stroke-width:0.48;\" x=\"72.873282\" xlink:href=\"#m9865819aa8\" y=\"214.756364\"/>\n     <use style=\"fill:#1f77b4;stroke:#ffffff;stroke-width:0.48;\" x=\"68.481798\" xlink:href=\"#m9865819aa8\" y=\"209.010063\"/>\n     <use style=\"fill:#1f77b4;stroke:#ffffff;stroke-width:0.48;\" x=\"209.684906\" xlink:href=\"#m9865819aa8\" y=\"114.19611\"/>\n     <use style=\"fill:#1f77b4;stroke:#ffffff;stroke-width:0.48;\" x=\"173.539613\" xlink:href=\"#m9865819aa8\" y=\"124.53945\"/>\n     <use style=\"fill:#1f77b4;stroke:#ffffff;stroke-width:0.48;\" x=\"330.281818\" xlink:href=\"#m9865819aa8\" y=\"59.606258\"/>\n     <use style=\"fill:#1f77b4;stroke:#ffffff;stroke-width:0.48;\" x=\"25.918182\" xlink:href=\"#m9865819aa8\" y=\"212.745159\"/>\n     <use style=\"fill:#1f77b4;stroke:#ffffff;stroke-width:0.48;\" x=\"230.291101\" xlink:href=\"#m9865819aa8\" y=\"123.677505\"/>\n     <use style=\"fill:#1f77b4;stroke:#ffffff;stroke-width:0.48;\" x=\"205.631228\" xlink:href=\"#m9865819aa8\" y=\"146.375391\"/>\n     <use style=\"fill:#1f77b4;stroke:#ffffff;stroke-width:0.48;\" x=\"263.058329\" xlink:href=\"#m9865819aa8\" y=\"78.569049\"/>\n     <use style=\"fill:#1f77b4;stroke:#ffffff;stroke-width:0.48;\" x=\"135.705287\" xlink:href=\"#m9865819aa8\" y=\"127.699915\"/>\n     <use style=\"fill:#1f77b4;stroke:#ffffff;stroke-width:0.48;\" x=\"231.642327\" xlink:href=\"#m9865819aa8\" y=\"104.140085\"/>\n     <use style=\"fill:#1f77b4;stroke:#ffffff;stroke-width:0.48;\" x=\"63.752507\" xlink:href=\"#m9865819aa8\" y=\"184.588288\"/>\n     <use style=\"fill:#1f77b4;stroke:#ffffff;stroke-width:0.48;\" x=\"202.253163\" xlink:href=\"#m9865819aa8\" y=\"86.613869\"/>\n     <use style=\"fill:#1f77b4;stroke:#ffffff;stroke-width:0.48;\" x=\"308.324397\" xlink:href=\"#m9865819aa8\" y=\"17.083636\"/>\n    </g>\n   </g>\n   <g id=\"matplotlib.axis_1\"/>\n   <g id=\"matplotlib.axis_2\"/>\n   <g id=\"line2d_1\">\n    <path clip-path=\"url(#p710108ba88)\" d=\"M 180.295742 122.88737 \nL 72.873282 182.037955 \nL 68.481798 184.456061 \nL 209.684906 106.704663 \nL 173.539613 126.607533 \nL 330.281818 40.299762 \nL 25.918182 207.893085 \nL 230.291101 95.358168 \nL 205.631228 108.936761 \nL 263.058329 77.315379 \nL 135.705287 147.440443 \nL 231.642327 94.614135 \nL 63.752507 187.060174 \nL 202.253163 110.796842 \nL 308.324397 52.39029 \n\" style=\"fill:none;stroke:#000000;stroke-linecap:square;stroke-width:1.5;\"/>\n   </g>\n   <g id=\"patch_3\">\n    <path d=\"M 10.7 224.64 \nL 10.7 7.2 \n\" style=\"fill:none;stroke:#000000;stroke-linecap:square;stroke-linejoin:miter;stroke-width:0.8;\"/>\n   </g>\n   <g id=\"patch_4\">\n    <path d=\"M 345.5 224.64 \nL 345.5 7.2 \n\" style=\"fill:none;stroke:#000000;stroke-linecap:square;stroke-linejoin:miter;stroke-width:0.8;\"/>\n   </g>\n   <g id=\"patch_5\">\n    <path d=\"M 10.7 224.64 \nL 345.5 224.64 \n\" style=\"fill:none;stroke:#000000;stroke-linecap:square;stroke-linejoin:miter;stroke-width:0.8;\"/>\n   </g>\n   <g id=\"patch_6\">\n    <path d=\"M 10.7 7.2 \nL 345.5 7.2 \n\" style=\"fill:none;stroke:#000000;stroke-linecap:square;stroke-linejoin:miter;stroke-width:0.8;\"/>\n   </g>\n  </g>\n </g>\n <defs>\n  <clipPath id=\"p710108ba88\">\n   <rect height=\"217.44\" width=\"334.8\" x=\"10.7\" y=\"7.2\"/>\n  </clipPath>\n </defs>\n</svg>\n",
      "image/png": "[encoded data removed]"
     },
     "metadata": {}
    }
   ],
   "source": [
    "sns.scatterplot(X_test[:, 0], y_test)\n",
    "plt.plot(X_test[:, 0], y_pred, color=\"black\")\n",
    "plt.xticks(())\n",
    "plt.yticks(())\n",
    "plt.show()"
   ]
  },
  {
   "cell_type": "code",
   "execution_count": 19,
   "metadata": {},
   "outputs": [
    {
     "output_type": "stream",
     "name": "stdout",
     "text": [
      "Linear regressor performance:\nMean absolute error = 0.6\nMean squared error = 0.54\nMedian absolute error = 0.67\nExplain variance score = 0.87\nR2 score = 0.86\n"
     ]
    }
   ],
   "source": [
    "print(\"Linear regressor performance:\")\n",
    "print(\"Mean absolute error =\", round(mean_absolute_error(y_test, y_pred), 2))\n",
    "print(\"Mean squared error =\", round(mean_squared_error(y_test, y_pred), 2))\n",
    "print(\"Median absolute error =\", round(median_absolute_error(y_test, y_pred), 2))\n",
    "print(\"Explain variance score =\", round(explained_variance_score(y_test, y_pred), 2))\n",
    "print(\"R2 score =\", round(r2_score(y_test, y_pred), 2))"
   ]
  },
  {
   "cell_type": "code",
   "execution_count": 20,
   "metadata": {},
   "outputs": [],
   "source": [
    "with open(\"../jar/singlevar_linear_regressor.pkl\", 'wb') as f:\n",
    "    pickle.dump(model, f)"
   ]
  },
  {
   "cell_type": "code",
   "execution_count": 21,
   "metadata": {},
   "outputs": [],
   "source": [
    "with open(\"../jar/singlevar_linear_regressor.pkl\", 'rb') as f:\n",
    "    regressor_model = pickle.load(f)"
   ]
  },
  {
   "cell_type": "code",
   "execution_count": 24,
   "metadata": {},
   "outputs": [
    {
     "output_type": "execute_result",
     "data": {
      "text/plain": [
       "array([3.28750065, 1.22876433, 1.14460216, 3.85073983, 3.15802037,\n",
       "       6.16196267, 0.32887645, 4.24565465, 3.77305166, 4.87363397,\n",
       "       2.43293085, 4.27155071, 1.05396597, 3.70831153, 5.74115179])"
      ]
     },
     "metadata": {},
     "execution_count": 24
    }
   ],
   "source": [
    "y_pred_new = regressor_model.predict(X_test)\n",
    "y_pred_new"
   ]
  },
  {
   "cell_type": "code",
   "execution_count": 25,
   "metadata": {},
   "outputs": [
    {
     "output_type": "stream",
     "name": "stdout",
     "text": [
      "\nNew mean absolute error = 0.6\n"
     ]
    }
   ],
   "source": [
    "print(\"\\nNew mean absolute error =\", round(mean_absolute_error(y_test, y_pred_new), 2))"
   ]
  }
 ]
}