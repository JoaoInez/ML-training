{
 "metadata": {
  "language_info": {
   "codemirror_mode": {
    "name": "ipython",
    "version": 3
   },
   "file_extension": ".py",
   "mimetype": "text/x-python",
   "name": "python",
   "nbconvert_exporter": "python",
   "pygments_lexer": "ipython3",
   "version": "3.9.0-final"
  },
  "orig_nbformat": 2,
  "kernelspec": {
   "name": "python3",
   "display_name": "Python 3"
  }
 },
 "nbformat": 4,
 "nbformat_minor": 2,
 "cells": [
  {
   "cell_type": "code",
   "execution_count": 8,
   "metadata": {},
   "outputs": [],
   "source": [
    "import pickle\n",
    "import numpy as np\n",
    "import matplotlib.pyplot as plt\n",
    "import seaborn as sns\n",
    "from sklearn.linear_model import LinearRegression\n",
    "from sklearn.metrics import classification_report\n",
    "from sklearn.model_selection import train_test_split\n",
    "%matplotlib inline"
   ]
  },
  {
   "cell_type": "code",
   "execution_count": 4,
   "metadata": {},
   "outputs": [
    {
     "output_type": "execute_result",
     "data": {
      "text/plain": [
       "array([[-0.86,  4.38],\n",
       "       [ 2.58,  6.97],\n",
       "       [ 4.17,  7.01],\n",
       "       [ 2.6 ,  5.44],\n",
       "       [ 5.13,  6.45]])"
      ]
     },
     "metadata": {},
     "execution_count": 4
    }
   ],
   "source": [
    "data = np.loadtxt(\"../input/data_singlevar_regr.txt\", delimiter=\",\")\n",
    "data[:5]"
   ]
  },
  {
   "cell_type": "code",
   "execution_count": 5,
   "metadata": {},
   "outputs": [],
   "source": [
    "X = data[:, :-1]\n",
    "y = data[:, -1]\n",
    "\n",
    "X_train, X_test, y_train, y_test = train_test_split(X, y)"
   ]
  },
  {
   "cell_type": "code",
   "execution_count": 6,
   "metadata": {},
   "outputs": [
    {
     "output_type": "execute_result",
     "data": {
      "text/plain": [
       "LinearRegression()"
      ]
     },
     "metadata": {},
     "execution_count": 6
    }
   ],
   "source": [
    "model = LinearRegression()\n",
    "model.fit(X_train, y_train)"
   ]
  },
  {
   "cell_type": "code",
   "execution_count": 7,
   "metadata": {},
   "outputs": [
    {
     "output_type": "execute_result",
     "data": {
      "text/plain": [
       "array([6.2850161 , 3.80610908, 3.90332112, 1.36192065, 4.36855017,\n",
       "       6.93772551, 2.5145777 , 1.73688138, 0.80642328, 7.60432236,\n",
       "       0.99390365, 7.41684199, 4.33383159, 4.56991797, 3.66723474])"
      ]
     },
     "metadata": {},
     "execution_count": 7
    }
   ],
   "source": [
    "y_pred = model.predict(X_test)\n",
    "y_pred"
   ]
  },
  {
   "cell_type": "code",
   "execution_count": 11,
   "metadata": {},
   "outputs": [
    {
     "output_type": "display_data",
     "data": {
      "text/plain": "<Figure size 432x288 with 1 Axes>",
      "image/svg+xml": "<?xml version=\"1.0\" encoding=\"utf-8\" standalone=\"no\"?>\n<!DOCTYPE svg PUBLIC \"-//W3C//DTD SVG 1.1//EN\"\n  \"http://www.w3.org/Graphics/SVG/1.1/DTD/svg11.dtd\">\n<!-- Created with matplotlib (https://matplotlib.org/) -->\n<svg height=\"235.34pt\" version=\"1.1\" viewBox=\"0 0 352.7 235.34\" width=\"352.7pt\" xmlns=\"http://www.w3.org/2000/svg\" xmlns:xlink=\"http://www.w3.org/1999/xlink\">\n <metadata>\n  <rdf:RDF xmlns:cc=\"http://creativecommons.org/ns#\" xmlns:dc=\"http://purl.org/dc/elements/1.1/\" xmlns:rdf=\"http://www.w3.org/1999/02/22-rdf-syntax-ns#\">\n   <cc:Work>\n    <dc:type rdf:resource=\"http://purl.org/dc/dcmitype/StillImage\"/>\n    <dc:date>2020-11-20T18:43:47.513165</dc:date>\n    <dc:format>image/svg+xml</dc:format>\n    <dc:creator>\n     <cc:Agent>\n      <dc:title>Matplotlib v3.3.3, https://matplotlib.org/</dc:title>\n     </cc:Agent>\n    </dc:creator>\n   </cc:Work>\n  </rdf:RDF>\n </metadata>\n <defs>\n  <style type=\"text/css\">*{stroke-linecap:butt;stroke-linejoin:round;}</style>\n </defs>\n <g id=\"figure_1\">\n  <g id=\"patch_1\">\n   <path d=\"M 0 235.34 \nL 352.7 235.34 \nL 352.7 0 \nL 0 0 \nz\n\" style=\"fill:none;\"/>\n  </g>\n  <g id=\"axes_1\">\n   <g id=\"patch_2\">\n    <path d=\"M 10.7 224.64 \nL 345.5 224.64 \nL 345.5 7.2 \nL 10.7 7.2 \nz\n\" style=\"fill:#ffffff;\"/>\n   </g>\n   <g id=\"PathCollection_1\">\n    <defs>\n     <path d=\"M 0 3 \nC 0.795609 3 1.55874 2.683901 2.12132 2.12132 \nC 2.683901 1.55874 3 0.795609 3 0 \nC 3 -0.795609 2.683901 -1.55874 2.12132 -2.12132 \nC 1.55874 -2.683901 0.795609 -3 0 -3 \nC -0.795609 -3 -1.55874 -2.683901 -2.12132 -2.12132 \nC -2.683901 -1.55874 -3 -0.795609 -3 0 \nC -3 0.795609 -2.683901 1.55874 -2.12132 2.12132 \nC -1.55874 2.683901 -0.795609 3 0 3 \nz\n\" id=\"m80f807cefc\" style=\"stroke:#008000;\"/>\n    </defs>\n    <g clip-path=\"url(#pb07efd0c1e)\">\n     <use style=\"fill:#008000;stroke:#008000;\" x=\"271.212267\" xlink:href=\"#m80f807cefc\" y=\"72.703271\"/>\n     <use style=\"fill:#008000;stroke:#008000;\" x=\"160.223688\" xlink:href=\"#m80f807cefc\" y=\"122.684915\"/>\n     <use style=\"fill:#008000;stroke:#008000;\" x=\"164.576182\" xlink:href=\"#m80f807cefc\" y=\"103.744503\"/>\n     <use style=\"fill:#008000;stroke:#008000;\" x=\"50.789572\" xlink:href=\"#m80f807cefc\" y=\"187.924113\"/>\n     <use style=\"fill:#008000;stroke:#008000;\" x=\"185.405971\" xlink:href=\"#m80f807cefc\" y=\"90.8545\"/>\n     <use style=\"fill:#008000;stroke:#008000;\" x=\"300.43615\" xlink:href=\"#m80f807cefc\" y=\"32.717956\"/>\n     <use style=\"fill:#008000;stroke:#008000;\" x=\"102.397706\" xlink:href=\"#m80f807cefc\" y=\"140.04696\"/>\n     <use style=\"fill:#008000;stroke:#008000;\" x=\"67.57776\" xlink:href=\"#m80f807cefc\" y=\"153.726146\"/>\n     <use style=\"fill:#008000;stroke:#008000;\" x=\"25.918182\" xlink:href=\"#m80f807cefc\" y=\"187.134929\"/>\n     <use style=\"fill:#008000;stroke:#008000;\" x=\"330.281818\" xlink:href=\"#m80f807cefc\" y=\"47.449388\"/>\n     <use style=\"fill:#008000;stroke:#008000;\" x=\"34.312276\" xlink:href=\"#m80f807cefc\" y=\"214.756364\"/>\n     <use style=\"fill:#008000;stroke:#008000;\" x=\"321.887724\" xlink:href=\"#m80f807cefc\" y=\"65.863678\"/>\n     <use style=\"fill:#008000;stroke:#008000;\" x=\"183.851509\" xlink:href=\"#m80f807cefc\" y=\"87.697764\"/>\n     <use style=\"fill:#008000;stroke:#008000;\" x=\"194.42185\" xlink:href=\"#m80f807cefc\" y=\"107.690422\"/>\n     <use style=\"fill:#008000;stroke:#008000;\" x=\"154.005841\" xlink:href=\"#m80f807cefc\" y=\"109.794912\"/>\n    </g>\n   </g>\n   <g id=\"matplotlib.axis_1\"/>\n   <g id=\"matplotlib.axis_2\"/>\n   <g id=\"line2d_1\">\n    <path clip-path=\"url(#pb07efd0c1e)\" d=\"M 271.212267 51.789476 \nL 160.223688 116.999922 \nL 164.576182 114.442649 \nL 50.789572 181.297056 \nL 185.405971 102.204274 \nL 300.43615 34.619218 \nL 102.397706 150.975112 \nL 67.57776 171.433291 \nL 25.918182 195.910041 \nL 330.281818 17.083636 \nL 34.312276 190.978158 \nL 321.887724 22.015519 \nL 183.851509 103.117586 \nL 194.42185 96.907067 \nL 154.005841 120.653168 \n\" style=\"fill:none;stroke:#000000;stroke-linecap:square;stroke-width:4;\"/>\n   </g>\n   <g id=\"patch_3\">\n    <path d=\"M 10.7 224.64 \nL 10.7 7.2 \n\" style=\"fill:none;stroke:#000000;stroke-linecap:square;stroke-linejoin:miter;stroke-width:0.8;\"/>\n   </g>\n   <g id=\"patch_4\">\n    <path d=\"M 345.5 224.64 \nL 345.5 7.2 \n\" style=\"fill:none;stroke:#000000;stroke-linecap:square;stroke-linejoin:miter;stroke-width:0.8;\"/>\n   </g>\n   <g id=\"patch_5\">\n    <path d=\"M 10.7 224.64 \nL 345.5 224.64 \n\" style=\"fill:none;stroke:#000000;stroke-linecap:square;stroke-linejoin:miter;stroke-width:0.8;\"/>\n   </g>\n   <g id=\"patch_6\">\n    <path d=\"M 10.7 7.2 \nL 345.5 7.2 \n\" style=\"fill:none;stroke:#000000;stroke-linecap:square;stroke-linejoin:miter;stroke-width:0.8;\"/>\n   </g>\n  </g>\n </g>\n <defs>\n  <clipPath id=\"pb07efd0c1e\">\n   <rect height=\"217.44\" width=\"334.8\" x=\"10.7\" y=\"7.2\"/>\n  </clipPath>\n </defs>\n</svg>\n",
      "image/png": "[encoded data removed]"
     },
     "metadata": {}
    }
   ],
   "source": [
    "plt.scatter(X_test, y_test, color='green')\n",
    "plt.plot(X_test, y_pred, color='black', linewidth=4)\n",
    "plt.xticks(())\n",
    "plt.yticks(())\n",
    "plt.show()"
   ]
  },
  {
   "cell_type": "code",
   "execution_count": null,
   "metadata": {},
   "outputs": [],
   "source": []
  }
 ]
}