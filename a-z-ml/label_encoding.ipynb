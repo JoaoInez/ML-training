{
 "metadata": {
  "language_info": {
   "codemirror_mode": {
    "name": "ipython",
    "version": 3
   },
   "file_extension": ".py",
   "mimetype": "text/x-python",
   "name": "python",
   "nbconvert_exporter": "python",
   "pygments_lexer": "ipython3",
   "version": "3.9.0-final"
  },
  "orig_nbformat": 2,
  "kernelspec": {
   "name": "python3",
   "display_name": "Python 3"
  }
 },
 "nbformat": 4,
 "nbformat_minor": 2,
 "cells": [
  {
   "cell_type": "code",
   "execution_count": 12,
   "metadata": {},
   "outputs": [],
   "source": [
    "from sklearn import preprocessing"
   ]
  },
  {
   "cell_type": "code",
   "execution_count": 13,
   "metadata": {},
   "outputs": [],
   "source": [
    "input_labels = [\"red\", \"black\", \"red\", \"green\", \"black\", \"yellow\", \"white\"]"
   ]
  },
  {
   "cell_type": "code",
   "execution_count": 14,
   "metadata": {},
   "outputs": [
    {
     "output_type": "stream",
     "name": "stdout",
     "text": [
      "Label mapping\nblack --> 0\ngreen --> 1\nred --> 2\nwhite --> 3\nyellow --> 4\n"
     ]
    }
   ],
   "source": [
    "encoder = preprocessing.LabelEncoder()\n",
    "encoder.fit(input_labels)\n",
    "\n",
    "print(\"Label mapping\")\n",
    "for i, item in enumerate(encoder.classes_):\n",
    "    print(\"{} --> {}\".format(item, i))"
   ]
  },
  {
   "cell_type": "code",
   "execution_count": 15,
   "metadata": {},
   "outputs": [
    {
     "output_type": "stream",
     "name": "stdout",
     "text": [
      "[1 2 0]\n"
     ]
    }
   ],
   "source": [
    "test_labels = [\"green\", \"red\", \"black\"]\n",
    "enconded_values = encoder.transform(test_labels)\n",
    "print(enconded_values)"
   ]
  },
  {
   "cell_type": "code",
   "execution_count": 16,
   "metadata": {},
   "outputs": [
    {
     "output_type": "stream",
     "name": "stdout",
     "text": [
      "['white' 'black' 'yellow' 'green']\n"
     ]
    }
   ],
   "source": [
    "test_values = [3, 0, 4, 1]\n",
    "decoded_labels = encoder.inverse_transform(test_values)\n",
    "print(decoded_labels)"
   ]
  }
 ]
}