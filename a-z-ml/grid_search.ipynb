{
 "metadata": {
  "language_info": {
   "codemirror_mode": {
    "name": "ipython",
    "version": 3
   },
   "file_extension": ".py",
   "mimetype": "text/x-python",
   "name": "python",
   "nbconvert_exporter": "python",
   "pygments_lexer": "ipython3",
   "version": "3.9.0-final"
  },
  "orig_nbformat": 2,
  "kernelspec": {
   "name": "python3",
   "display_name": "Python 3"
  }
 },
 "nbformat": 4,
 "nbformat_minor": 2,
 "cells": [
  {
   "cell_type": "code",
   "execution_count": 1,
   "metadata": {},
   "outputs": [],
   "source": [
    "import numpy as np\n",
    "from sklearn.model_selection import train_test_split, GridSearchCV\n",
    "from sklearn.ensemble import ExtraTreesClassifier\n",
    "from sklearn.metrics import classification_report"
   ]
  },
  {
   "cell_type": "code",
   "execution_count": 2,
   "metadata": {},
   "outputs": [],
   "source": [
    "data = np.loadtxt(\"../input/data_random_forests.txt\", delimiter=\",\")\n",
    "\n",
    "X = data[:, :-1]\n",
    "y = data[:, -1]\n",
    "\n",
    "X_train, X_test, y_train, y_test = train_test_split(X, y)"
   ]
  },
  {
   "cell_type": "code",
   "execution_count": 3,
   "metadata": {},
   "outputs": [],
   "source": [
    "parameter_grid = [\n",
    "    {\"n_estimators\": [100], \"max_depth\": [2, 4, 7, 12, 16]},\n",
    "    {\"max_depth\": [4], \"n_estimators\": [25, 50, 100, 150, 250]}\n",
    "]\n",
    "\n",
    "def best_params_for_metric(metric):\n",
    "    model = GridSearchCV(\n",
    "        ExtraTreesClassifier(random_state=0),\n",
    "        parameter_grid,\n",
    "        cv=5,\n",
    "        scoring=metric\n",
    "    )\n",
    "    model.fit(X_train, y_train)\n",
    "\n",
    "    print(\"Best parameters:\", model.best_params_)\n",
    "\n",
    "    y_pred = model.predict(X_test)\n",
    "\n",
    "    print(classification_report(y_test, y_pred))"
   ]
  },
  {
   "cell_type": "code",
   "execution_count": 4,
   "metadata": {
    "tags": []
   },
   "outputs": [
    {
     "output_type": "stream",
     "name": "stdout",
     "text": [
      "Best parameters: {'max_depth': 2, 'n_estimators': 100}\n              precision    recall  f1-score   support\n\n         0.0       0.90      0.84      0.87        75\n         1.0       0.78      0.84      0.81        67\n         2.0       0.86      0.86      0.86        83\n\n    accuracy                           0.84       225\n   macro avg       0.84      0.84      0.84       225\nweighted avg       0.85      0.84      0.85       225\n\n"
     ]
    }
   ],
   "source": [
    "best_params_for_metric(\"precision_weighted\")"
   ]
  },
  {
   "cell_type": "code",
   "execution_count": 5,
   "metadata": {},
   "outputs": [
    {
     "output_type": "stream",
     "name": "stdout",
     "text": [
      "Best parameters: {'max_depth': 4, 'n_estimators': 25}\n              precision    recall  f1-score   support\n\n         0.0       0.87      0.87      0.87        75\n         1.0       0.83      0.82      0.83        67\n         2.0       0.86      0.87      0.86        83\n\n    accuracy                           0.85       225\n   macro avg       0.85      0.85      0.85       225\nweighted avg       0.85      0.85      0.85       225\n\n"
     ]
    }
   ],
   "source": [
    "best_params_for_metric(\"recall_weighted\")"
   ]
  }
 ]
}