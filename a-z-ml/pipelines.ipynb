{
 "metadata": {
  "language_info": {
   "codemirror_mode": {
    "name": "ipython",
    "version": 3
   },
   "file_extension": ".py",
   "mimetype": "text/x-python",
   "name": "python",
   "nbconvert_exporter": "python",
   "pygments_lexer": "ipython3",
   "version": "3.9.0-final"
  },
  "orig_nbformat": 2,
  "kernelspec": {
   "name": "python3",
   "display_name": "Python 3"
  }
 },
 "nbformat": 4,
 "nbformat_minor": 2,
 "cells": [
  {
   "cell_type": "code",
   "execution_count": 1,
   "metadata": {},
   "outputs": [],
   "source": [
    "from sklearn.datasets import samples_generator\n",
    "from sklearn.pipeline import Pipeline\n",
    "from sklearn.feature_selection import SelectKBest, f_regression\n",
    "from sklearn.model_selection import train_test_split\n",
    "from sklearn.ensemble import ExtraTreesClassifier"
   ]
  },
  {
   "cell_type": "code",
   "execution_count": 2,
   "metadata": {},
   "outputs": [
    {
     "output_type": "execute_result",
     "data": {
      "text/plain": [
       "array([[ 1.01856035, -0.1850947 ,  0.33953529,  0.88377939, -2.22145741,\n",
       "        -0.71205954,  0.46313981, -2.42424476, -0.07998485,  0.03653191,\n",
       "        -1.27561144, -1.5670243 , -0.82216114, -0.47040384,  0.98701872,\n",
       "        -0.34439804,  0.02056176, -1.65437764,  0.94696772, -0.22854693,\n",
       "         0.40599781,  0.16376894, -0.89722827,  2.43356744, -0.69119524],\n",
       "       [-0.27783108,  0.99897481,  0.53479038,  1.37774353,  1.5508449 ,\n",
       "         0.48987688,  0.43270835,  2.04438699,  0.92061477, -2.7363943 ,\n",
       "         0.35109063, -0.47040716,  0.65870878, -0.77338381, -0.45308357,\n",
       "         1.33497158,  1.26571843, -0.87354849, -1.15667003,  0.72074654,\n",
       "        -1.04392163,  0.13473012,  0.22153721,  1.2023667 ,  0.30568521],\n",
       "       [ 0.03110801,  1.14511831,  0.28923459, -1.50807294,  2.48635502,\n",
       "        -1.61291006,  0.8857136 ,  2.29172098, -1.54121704, -2.00025812,\n",
       "        -0.50057328,  1.30147258, -0.05141326, -0.53541711,  1.02896185,\n",
       "         2.61048917,  0.95206572, -2.13238317, -0.58448307, -2.30300203,\n",
       "         1.48744951, -0.60358207, -1.05191555,  0.09786165, -0.65803802],\n",
       "       [-1.70198175,  1.28137708, -0.88510194,  0.96288154, -3.1257954 ,\n",
       "        -0.29364932,  0.99028172, -1.82330041, -1.39758049, -0.84599702,\n",
       "         1.60348849, -1.07561483, -1.7706166 ,  0.53678364,  0.85410549,\n",
       "         0.62334868,  0.86919473,  4.47037839, -0.06240399,  0.69192384,\n",
       "         0.59542061, -0.01865103,  2.49504558,  3.32957811, -1.48902713],\n",
       "       [ 0.22584503, -0.04981275,  0.30734507,  1.38575894,  2.68444589,\n",
       "        -0.18277308,  0.45934452, -5.01866625, -0.53329945,  2.64261373,\n",
       "         0.98813592, -0.29287871,  0.7973904 ,  0.78339055, -0.38204493,\n",
       "        -0.38031529, -0.9245742 , -2.60907231, -1.43837804,  0.0780058 ,\n",
       "         0.41000327, -0.83355476, -0.93032383,  1.14021711, -1.3626249 ]])"
      ]
     },
     "metadata": {},
     "execution_count": 2
    }
   ],
   "source": [
    "X, y = samples_generator.make_classification(\n",
    "    n_samples=150,\n",
    "    n_features=25,\n",
    "    n_classes=3,\n",
    "    n_informative=6,\n",
    "    n_redundant=0,\n",
    "    random_state=7\n",
    ")\n",
    "\n",
    "X[:5]"
   ]
  },
  {
   "cell_type": "code",
   "execution_count": 3,
   "metadata": {},
   "outputs": [
    {
     "output_type": "execute_result",
     "data": {
      "text/plain": [
       "array([0, 2, 2, 0, 2])"
      ]
     },
     "metadata": {},
     "execution_count": 3
    }
   ],
   "source": [
    "y[:5]"
   ]
  },
  {
   "cell_type": "code",
   "execution_count": 4,
   "metadata": {},
   "outputs": [],
   "source": [
    "X_train, X_test, y_train, y_test = train_test_split(X, y)"
   ]
  },
  {
   "cell_type": "code",
   "execution_count": 5,
   "metadata": {},
   "outputs": [
    {
     "output_type": "execute_result",
     "data": {
      "text/plain": [
       "SelectKBest(k=9, score_func=<function f_regression at 0x1284fe940>)"
      ]
     },
     "metadata": {},
     "execution_count": 5
    }
   ],
   "source": [
    "k_best_selector = SelectKBest(f_regression, k=9)\n",
    "k_best_selector"
   ]
  },
  {
   "cell_type": "code",
   "execution_count": 6,
   "metadata": {},
   "outputs": [],
   "source": [
    "model = ExtraTreesClassifier(n_estimators=60, max_depth=4)"
   ]
  },
  {
   "cell_type": "code",
   "execution_count": 7,
   "metadata": {},
   "outputs": [
    {
     "output_type": "execute_result",
     "data": {
      "text/plain": [
       "Pipeline(steps=[('selector',\n",
       "                 SelectKBest(k=9,\n",
       "                             score_func=<function f_regression at 0x1284fe940>)),\n",
       "                ('erf', ExtraTreesClassifier(max_depth=4, n_estimators=60))])"
      ]
     },
     "metadata": {},
     "execution_count": 7
    }
   ],
   "source": [
    "pipeline = Pipeline([(\"selector\", k_best_selector), (\"erf\", model)])\n",
    "pipeline"
   ]
  },
  {
   "cell_type": "code",
   "execution_count": 8,
   "metadata": {},
   "outputs": [
    {
     "output_type": "execute_result",
     "data": {
      "text/plain": [
       "Pipeline(steps=[('selector',\n",
       "                 SelectKBest(k=7,\n",
       "                             score_func=<function f_regression at 0x1284fe940>)),\n",
       "                ('erf', ExtraTreesClassifier(max_depth=4, n_estimators=30))])"
      ]
     },
     "metadata": {},
     "execution_count": 8
    }
   ],
   "source": [
    "pipeline.set_params(selector__k=7, erf__n_estimators=30)"
   ]
  },
  {
   "cell_type": "code",
   "execution_count": 9,
   "metadata": {},
   "outputs": [
    {
     "output_type": "execute_result",
     "data": {
      "text/plain": [
       "Pipeline(steps=[('selector',\n",
       "                 SelectKBest(k=7,\n",
       "                             score_func=<function f_regression at 0x1284fe940>)),\n",
       "                ('erf', ExtraTreesClassifier(max_depth=4, n_estimators=30))])"
      ]
     },
     "metadata": {},
     "execution_count": 9
    }
   ],
   "source": [
    "pipeline.fit(X_train, y_train)"
   ]
  },
  {
   "cell_type": "code",
   "execution_count": 10,
   "metadata": {},
   "outputs": [
    {
     "output_type": "execute_result",
     "data": {
      "text/plain": [
       "array([1, 2, 0, 2, 2, 0, 0, 2, 1, 0, 0, 2, 0, 2, 0, 2, 2, 2, 2, 1, 1, 2,\n",
       "       1, 1, 1, 2, 2, 0, 2, 0, 2, 0, 2, 1, 0, 0, 2, 0])"
      ]
     },
     "metadata": {},
     "execution_count": 10
    }
   ],
   "source": [
    "y_pred = pipeline.predict(X_test)\n",
    "y_pred"
   ]
  },
  {
   "cell_type": "code",
   "execution_count": 11,
   "metadata": {},
   "outputs": [
    {
     "output_type": "stream",
     "name": "stdout",
     "text": [
      "Score: 0.7368421052631579\n"
     ]
    }
   ],
   "source": [
    "print(\"Score:\", pipeline.score(X=X_test, y=y_test))"
   ]
  },
  {
   "cell_type": "code",
   "execution_count": 12,
   "metadata": {},
   "outputs": [
    {
     "output_type": "stream",
     "name": "stdout",
     "text": [
      "\nIndices of selected features: 4, 7, 8, 12, 17, 22, 23\n"
     ]
    }
   ],
   "source": [
    "status = pipeline.named_steps[\"selector\"].get_support()\n",
    "\n",
    "selected = [i for i, x in enumerate(status) if x]\n",
    "print(\"\\nIndices of selected features:\", \", \".join([str(x) for x in selected]))"
   ]
  }
 ]
}