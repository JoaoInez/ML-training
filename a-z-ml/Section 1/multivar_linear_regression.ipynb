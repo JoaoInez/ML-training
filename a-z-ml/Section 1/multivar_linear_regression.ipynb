{
 "metadata": {
  "language_info": {
   "codemirror_mode": {
    "name": "ipython",
    "version": 3
   },
   "file_extension": ".py",
   "mimetype": "text/x-python",
   "name": "python",
   "nbconvert_exporter": "python",
   "pygments_lexer": "ipython3",
   "version": "3.9.0-final"
  },
  "orig_nbformat": 2,
  "kernelspec": {
   "name": "python3",
   "display_name": "Python 3"
  }
 },
 "nbformat": 4,
 "nbformat_minor": 2,
 "cells": [
  {
   "cell_type": "code",
   "execution_count": 6,
   "metadata": {},
   "outputs": [],
   "source": [
    "import numpy as np\n",
    "from sklearn.linear_model import LinearRegression\n",
    "from sklearn.preprocessing import PolynomialFeatures\n",
    "from sklearn.metrics import mean_absolute_error, mean_squared_error, median_absolute_error, explained_variance_score, r2_score\n",
    "from sklearn.model_selection import train_test_split"
   ]
  },
  {
   "cell_type": "code",
   "execution_count": 2,
   "metadata": {},
   "outputs": [
    {
     "output_type": "execute_result",
     "data": {
      "text/plain": [
       "array([[ 2.06,  3.48,  7.21, 15.69],\n",
       "       [ 6.37,  3.01,  7.27, 15.34],\n",
       "       [ 1.18,  1.2 ,  5.42,  0.66],\n",
       "       [ 7.37,  3.81, -1.95, 38.37],\n",
       "       [ 6.16,  1.39,  7.39,  9.96]])"
      ]
     },
     "metadata": {},
     "execution_count": 2
    }
   ],
   "source": [
    "data = np.loadtxt(\"../../input/data_multivar_regr.txt\", delimiter=\",\")\n",
    "data[:5]"
   ]
  },
  {
   "cell_type": "code",
   "execution_count": 3,
   "metadata": {},
   "outputs": [],
   "source": [
    "X = data[:, :-1]\n",
    "y = data[:, -1]\n",
    "\n",
    "X_train, X_test, y_train, y_test = train_test_split(X, y)"
   ]
  },
  {
   "cell_type": "code",
   "execution_count": 4,
   "metadata": {},
   "outputs": [
    {
     "output_type": "execute_result",
     "data": {
      "text/plain": [
       "LinearRegression()"
      ]
     },
     "metadata": {},
     "execution_count": 4
    }
   ],
   "source": [
    "model = LinearRegression()\n",
    "model.fit(X_train, y_train)"
   ]
  },
  {
   "cell_type": "code",
   "execution_count": 5,
   "metadata": {},
   "outputs": [
    {
     "output_type": "execute_result",
     "data": {
      "text/plain": [
       "array([ 7.84571262e+00,  2.26793589e+01,  2.89460494e+01,  8.96445423e+00,\n",
       "        1.68076675e+01,  3.70420001e+00,  3.88072610e+01,  4.09890671e+00,\n",
       "        1.61183560e+01,  3.78549336e+01, -8.43767026e-01,  3.48510437e+01,\n",
       "        3.03783429e+01,  3.05950167e+01,  1.50335132e+01,  2.44178917e+01,\n",
       "        9.60327053e+00,  2.21300854e+01,  1.29022870e+01,  1.50599496e-01,\n",
       "        8.46942650e+00,  1.89068587e+01,  2.88722673e+01,  2.17156914e+01,\n",
       "        2.94922604e+01,  1.13030848e+01,  2.97992347e+01,  3.30153337e+01,\n",
       "        4.37419907e+01,  3.43510149e+01,  1.28048047e+01, -2.54899127e+00,\n",
       "        3.27416549e+01,  1.26700300e+01,  3.10694460e+01,  2.99589429e+01,\n",
       "        4.03756393e+01,  1.69540356e+01,  2.72078690e+01,  9.25014198e+00,\n",
       "        2.90583185e+01,  1.00181221e+01,  2.03945692e+01,  3.77007429e+01,\n",
       "        2.63477347e+01,  2.83374061e+01, -2.30350444e-02,  8.64050027e-02,\n",
       "        2.91120300e+01,  3.96310430e+01,  4.15883738e+01,  2.68111215e+01,\n",
       "        2.54927969e+01,  3.48318790e+01,  3.18478936e+01,  2.66838593e+01,\n",
       "        3.59207092e+01,  3.14510059e+01,  1.41923369e+01,  1.73265233e+00,\n",
       "        1.62432297e+00,  2.30078534e+01,  2.23763939e+01,  9.25670199e+00,\n",
       "        3.19780732e+01,  1.00525346e+01,  2.88984194e+01,  3.79426178e+01,\n",
       "        4.76676475e+01,  1.39169811e+01,  2.33946920e+01,  2.53011690e+01,\n",
       "        2.91733452e+01,  2.71321092e+01,  2.69923401e+01,  1.96861206e+01,\n",
       "       -3.97803539e-01,  2.04005207e+01,  3.66560243e+01,  1.97195687e+01,\n",
       "        1.02292386e+01,  2.37563752e+01,  4.50314660e+01,  9.57072211e+00,\n",
       "        3.36640316e+01,  1.96210386e+01,  2.76946972e+01,  2.08493962e+01,\n",
       "        3.02474644e+01,  3.89003847e+01,  2.57532670e+01,  1.43685809e+01,\n",
       "        1.71106136e+01,  2.02750593e+01,  3.03275232e+01,  7.77380515e+00,\n",
       "        2.79560319e+01,  3.64888525e+01,  2.76273186e+01,  2.71847192e+01,\n",
       "        2.31986369e+01,  2.65539222e+01,  7.50209626e+00,  9.19775863e-01,\n",
       "        3.05032479e+01,  1.98908538e+01,  2.37153408e+01,  3.27156805e+01,\n",
       "        2.25494629e+01,  2.10822752e+01,  3.56058460e+01,  2.87627703e+01,\n",
       "        1.42284389e+01,  3.61542175e+01,  1.81498789e+01, -1.31995587e-01,\n",
       "        1.99437365e+01,  2.69286360e+01,  1.89339301e+01, -4.41793036e-01,\n",
       "        2.86964003e+01,  1.95760519e+01,  4.30892551e+01,  1.62638066e+01,\n",
       "        7.78052733e+00,  1.49038866e+01,  1.51285433e+01,  2.95900467e+01,\n",
       "        3.95618109e+01,  2.48887926e+01,  2.92778252e+01,  2.05537935e+01,\n",
       "        9.09725430e-01,  2.81219560e+01,  1.29848090e+01,  2.51374769e+01,\n",
       "        2.85749926e+01,  1.04911282e+01,  1.82544479e+01,  1.54592730e+01,\n",
       "        4.32340710e+01,  1.86466630e+01,  3.21809737e+01,  2.75065354e+01,\n",
       "        2.96738053e+01,  2.38080643e+01,  3.75637786e+01,  1.85459784e+01,\n",
       "        1.48805760e+01,  2.93990078e+01,  1.77823093e+01,  3.49954138e+01,\n",
       "        2.16326583e+01,  2.29701613e+01,  1.93214508e+01,  1.92440367e+01,\n",
       "        3.65775081e+00,  4.52193115e+01,  2.83980690e+01,  2.17124324e+01,\n",
       "        2.62846541e+01,  3.29253156e+01,  3.55452396e+01,  1.76411393e+01,\n",
       "        1.15678614e+01,  2.54106201e+01,  1.48397906e+01,  2.04389080e+01,\n",
       "        3.13729619e+01,  2.68417020e+01,  1.33048766e+01,  1.52234755e+01,\n",
       "        1.12670126e+01,  3.32173489e+01,  1.50643677e+01])"
      ]
     },
     "metadata": {},
     "execution_count": 5
    }
   ],
   "source": [
    "y_pred = model.predict(X_test)\n",
    "y_pred"
   ]
  },
  {
   "cell_type": "code",
   "execution_count": 10,
   "metadata": {},
   "outputs": [
    {
     "output_type": "stream",
     "name": "stdout",
     "text": [
      "Linear Regressor performance:\nMean absolute error = 3.91\nMean squared error = 23.2\nMedian absolute error = 3.4\nExplained variance score = 0.86\nR2 score = 0.86\n"
     ]
    }
   ],
   "source": [
    "print(\"Linear Regressor performance:\")\n",
    "print(\"Mean absolute error =\", round(mean_absolute_error(y_test, y_pred), 2))\n",
    "print(\"Mean squared error =\", round(mean_squared_error(y_test, y_pred), 2))\n",
    "print(\"Median absolute error =\", round(median_absolute_error(y_test, y_pred), 2))\n",
    "print(\"Explained variance score =\", round(explained_variance_score(y_test, y_pred), 2))\n",
    "print(\"R2 score =\", round(r2_score(y_test, y_pred), 2))"
   ]
  },
  {
   "cell_type": "code",
   "execution_count": 11,
   "metadata": {},
   "outputs": [
    {
     "output_type": "execute_result",
     "data": {
      "text/plain": [
       "array([ 7.66,  6.29,  5.66, 41.35])"
      ]
     },
     "metadata": {},
     "execution_count": 11
    }
   ],
   "source": [
    "data[10]"
   ]
  },
  {
   "cell_type": "code",
   "execution_count": 12,
   "metadata": {},
   "outputs": [],
   "source": [
    "datapoint = [[7.75, 6.35, 5.56]]"
   ]
  },
  {
   "cell_type": "code",
   "execution_count": 14,
   "metadata": {},
   "outputs": [],
   "source": [
    "polynomial = PolynomialFeatures(degree=10)\n",
    "X_train_polynomial = polynomial.fit_transform(X_train)\n",
    "datapoint_polynomial = polynomial.fit_transform(datapoint)"
   ]
  },
  {
   "cell_type": "code",
   "execution_count": 15,
   "metadata": {},
   "outputs": [
    {
     "output_type": "execute_result",
     "data": {
      "text/plain": [
       "LinearRegression()"
      ]
     },
     "metadata": {},
     "execution_count": 15
    }
   ],
   "source": [
    "model_polynomial = LinearRegression()\n",
    "model_polynomial.fit(X_train_polynomial, y_train)"
   ]
  },
  {
   "cell_type": "code",
   "execution_count": 16,
   "metadata": {},
   "outputs": [
    {
     "output_type": "stream",
     "name": "stdout",
     "text": [
      "\nLinear regression:\n [35.94599112]\n\nPolynomial regression:\n [42.07608406]\n"
     ]
    }
   ],
   "source": [
    "print(\"\\nLinear regression:\\n\", model.predict(datapoint))\n",
    "print(\"\\nPolynomial regression:\\n\", model_polynomial.predict(datapoint_polynomial))"
   ]
  }
 ]
}