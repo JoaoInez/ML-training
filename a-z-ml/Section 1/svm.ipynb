{
 "metadata": {
  "language_info": {
   "codemirror_mode": {
    "name": "ipython",
    "version": 3
   },
   "file_extension": ".py",
   "mimetype": "text/x-python",
   "name": "python",
   "nbconvert_exporter": "python",
   "pygments_lexer": "ipython3",
   "version": "3.9.0-final"
  },
  "orig_nbformat": 2,
  "kernelspec": {
   "name": "python3",
   "display_name": "Python 3"
  }
 },
 "nbformat": 4,
 "nbformat_minor": 2,
 "cells": [
  {
   "cell_type": "code",
   "execution_count": 1,
   "metadata": {},
   "outputs": [],
   "source": [
    "import numpy as np\n",
    "import pandas as pd\n",
    "from sklearn.preprocessing import LabelEncoder, OneHotEncoder\n",
    "from sklearn.svm import LinearSVC\n",
    "from sklearn.multiclass import OneVsOneClassifier\n",
    "from sklearn.model_selection import train_test_split\n",
    "from sklearn.metrics import f1_score, accuracy_score"
   ]
  },
  {
   "cell_type": "code",
   "execution_count": 2,
   "metadata": {},
   "outputs": [
    {
     "output_type": "execute_result",
     "data": {
      "text/plain": [
       "    0          1       2             3   4                   5   \\\n",
       "10  37    Private  280464  Some-college  10  Married-civ-spouse   \n",
       "11  30  State-gov  141297     Bachelors  13  Married-civ-spouse   \n",
       "12  23    Private  122272     Bachelors  13       Never-married   \n",
       "13  32    Private  205019    Assoc-acdm  12       Never-married   \n",
       "14  40    Private  121772     Assoc-voc  11  Married-civ-spouse   \n",
       "\n",
       "                 6              7                   8       9   10  11  12  \\\n",
       "10  Exec-managerial        Husband               Black    Male   0   0  80   \n",
       "11   Prof-specialty        Husband  Asian-Pac-Islander    Male   0   0  40   \n",
       "12     Adm-clerical      Own-child               White  Female   0   0  30   \n",
       "13            Sales  Not-in-family               Black    Male   0   0  50   \n",
       "14     Craft-repair        Husband  Asian-Pac-Islander    Male   0   0  40   \n",
       "\n",
       "               13     14  \n",
       "10  United-States   >50K  \n",
       "11          India   >50K  \n",
       "12  United-States  <=50K  \n",
       "13  United-States  <=50K  \n",
       "14              ?   >50K  "
      ],
      "text/html": "<div>\n<style scoped>\n    .dataframe tbody tr th:only-of-type {\n        vertical-align: middle;\n    }\n\n    .dataframe tbody tr th {\n        vertical-align: top;\n    }\n\n    .dataframe thead th {\n        text-align: right;\n    }\n</style>\n<table border=\"1\" class=\"dataframe\">\n  <thead>\n    <tr style=\"text-align: right;\">\n      <th></th>\n      <th>0</th>\n      <th>1</th>\n      <th>2</th>\n      <th>3</th>\n      <th>4</th>\n      <th>5</th>\n      <th>6</th>\n      <th>7</th>\n      <th>8</th>\n      <th>9</th>\n      <th>10</th>\n      <th>11</th>\n      <th>12</th>\n      <th>13</th>\n      <th>14</th>\n    </tr>\n  </thead>\n  <tbody>\n    <tr>\n      <th>10</th>\n      <td>37</td>\n      <td>Private</td>\n      <td>280464</td>\n      <td>Some-college</td>\n      <td>10</td>\n      <td>Married-civ-spouse</td>\n      <td>Exec-managerial</td>\n      <td>Husband</td>\n      <td>Black</td>\n      <td>Male</td>\n      <td>0</td>\n      <td>0</td>\n      <td>80</td>\n      <td>United-States</td>\n      <td>&gt;50K</td>\n    </tr>\n    <tr>\n      <th>11</th>\n      <td>30</td>\n      <td>State-gov</td>\n      <td>141297</td>\n      <td>Bachelors</td>\n      <td>13</td>\n      <td>Married-civ-spouse</td>\n      <td>Prof-specialty</td>\n      <td>Husband</td>\n      <td>Asian-Pac-Islander</td>\n      <td>Male</td>\n      <td>0</td>\n      <td>0</td>\n      <td>40</td>\n      <td>India</td>\n      <td>&gt;50K</td>\n    </tr>\n    <tr>\n      <th>12</th>\n      <td>23</td>\n      <td>Private</td>\n      <td>122272</td>\n      <td>Bachelors</td>\n      <td>13</td>\n      <td>Never-married</td>\n      <td>Adm-clerical</td>\n      <td>Own-child</td>\n      <td>White</td>\n      <td>Female</td>\n      <td>0</td>\n      <td>0</td>\n      <td>30</td>\n      <td>United-States</td>\n      <td>&lt;=50K</td>\n    </tr>\n    <tr>\n      <th>13</th>\n      <td>32</td>\n      <td>Private</td>\n      <td>205019</td>\n      <td>Assoc-acdm</td>\n      <td>12</td>\n      <td>Never-married</td>\n      <td>Sales</td>\n      <td>Not-in-family</td>\n      <td>Black</td>\n      <td>Male</td>\n      <td>0</td>\n      <td>0</td>\n      <td>50</td>\n      <td>United-States</td>\n      <td>&lt;=50K</td>\n    </tr>\n    <tr>\n      <th>14</th>\n      <td>40</td>\n      <td>Private</td>\n      <td>121772</td>\n      <td>Assoc-voc</td>\n      <td>11</td>\n      <td>Married-civ-spouse</td>\n      <td>Craft-repair</td>\n      <td>Husband</td>\n      <td>Asian-Pac-Islander</td>\n      <td>Male</td>\n      <td>0</td>\n      <td>0</td>\n      <td>40</td>\n      <td>?</td>\n      <td>&gt;50K</td>\n    </tr>\n  </tbody>\n</table>\n</div>"
     },
     "metadata": {},
     "execution_count": 2
    }
   ],
   "source": [
    "income_data = pd.read_csv(\"../../input/income_data.txt\", sep=\", \", header=None)\n",
    "income_data.iloc[10:15]"
   ]
  },
  {
   "cell_type": "code",
   "execution_count": 3,
   "metadata": {},
   "outputs": [
    {
     "output_type": "execute_result",
     "data": {
      "text/plain": [
       "    0          1       2             3   4                   5   \\\n",
       "10  37    Private  280464  Some-college  10  Married-civ-spouse   \n",
       "11  30  State-gov  141297     Bachelors  13  Married-civ-spouse   \n",
       "12  23    Private  122272     Bachelors  13       Never-married   \n",
       "13  32    Private  205019    Assoc-acdm  12       Never-married   \n",
       "15  34    Private  245487       7th-8th   4  Married-civ-spouse   \n",
       "\n",
       "                  6              7                   8       9   10  11  12  \\\n",
       "10   Exec-managerial        Husband               Black    Male   0   0  80   \n",
       "11    Prof-specialty        Husband  Asian-Pac-Islander    Male   0   0  40   \n",
       "12      Adm-clerical      Own-child               White  Female   0   0  30   \n",
       "13             Sales  Not-in-family               Black    Male   0   0  50   \n",
       "15  Transport-moving        Husband  Amer-Indian-Eskimo    Male   0   0  45   \n",
       "\n",
       "               13     14  \n",
       "10  United-States   >50K  \n",
       "11          India   >50K  \n",
       "12  United-States  <=50K  \n",
       "13  United-States  <=50K  \n",
       "15         Mexico  <=50K  "
      ],
      "text/html": "<div>\n<style scoped>\n    .dataframe tbody tr th:only-of-type {\n        vertical-align: middle;\n    }\n\n    .dataframe tbody tr th {\n        vertical-align: top;\n    }\n\n    .dataframe thead th {\n        text-align: right;\n    }\n</style>\n<table border=\"1\" class=\"dataframe\">\n  <thead>\n    <tr style=\"text-align: right;\">\n      <th></th>\n      <th>0</th>\n      <th>1</th>\n      <th>2</th>\n      <th>3</th>\n      <th>4</th>\n      <th>5</th>\n      <th>6</th>\n      <th>7</th>\n      <th>8</th>\n      <th>9</th>\n      <th>10</th>\n      <th>11</th>\n      <th>12</th>\n      <th>13</th>\n      <th>14</th>\n    </tr>\n  </thead>\n  <tbody>\n    <tr>\n      <th>10</th>\n      <td>37</td>\n      <td>Private</td>\n      <td>280464</td>\n      <td>Some-college</td>\n      <td>10</td>\n      <td>Married-civ-spouse</td>\n      <td>Exec-managerial</td>\n      <td>Husband</td>\n      <td>Black</td>\n      <td>Male</td>\n      <td>0</td>\n      <td>0</td>\n      <td>80</td>\n      <td>United-States</td>\n      <td>&gt;50K</td>\n    </tr>\n    <tr>\n      <th>11</th>\n      <td>30</td>\n      <td>State-gov</td>\n      <td>141297</td>\n      <td>Bachelors</td>\n      <td>13</td>\n      <td>Married-civ-spouse</td>\n      <td>Prof-specialty</td>\n      <td>Husband</td>\n      <td>Asian-Pac-Islander</td>\n      <td>Male</td>\n      <td>0</td>\n      <td>0</td>\n      <td>40</td>\n      <td>India</td>\n      <td>&gt;50K</td>\n    </tr>\n    <tr>\n      <th>12</th>\n      <td>23</td>\n      <td>Private</td>\n      <td>122272</td>\n      <td>Bachelors</td>\n      <td>13</td>\n      <td>Never-married</td>\n      <td>Adm-clerical</td>\n      <td>Own-child</td>\n      <td>White</td>\n      <td>Female</td>\n      <td>0</td>\n      <td>0</td>\n      <td>30</td>\n      <td>United-States</td>\n      <td>&lt;=50K</td>\n    </tr>\n    <tr>\n      <th>13</th>\n      <td>32</td>\n      <td>Private</td>\n      <td>205019</td>\n      <td>Assoc-acdm</td>\n      <td>12</td>\n      <td>Never-married</td>\n      <td>Sales</td>\n      <td>Not-in-family</td>\n      <td>Black</td>\n      <td>Male</td>\n      <td>0</td>\n      <td>0</td>\n      <td>50</td>\n      <td>United-States</td>\n      <td>&lt;=50K</td>\n    </tr>\n    <tr>\n      <th>15</th>\n      <td>34</td>\n      <td>Private</td>\n      <td>245487</td>\n      <td>7th-8th</td>\n      <td>4</td>\n      <td>Married-civ-spouse</td>\n      <td>Transport-moving</td>\n      <td>Husband</td>\n      <td>Amer-Indian-Eskimo</td>\n      <td>Male</td>\n      <td>0</td>\n      <td>0</td>\n      <td>45</td>\n      <td>Mexico</td>\n      <td>&lt;=50K</td>\n    </tr>\n  </tbody>\n</table>\n</div>"
     },
     "metadata": {},
     "execution_count": 3
    }
   ],
   "source": [
    "income_data = income_data.replace(\"?\", np.NaN)\n",
    "income_data = income_data.dropna()\n",
    "income_data.iloc[10:15]"
   ]
  },
  {
   "cell_type": "code",
   "execution_count": 4,
   "metadata": {},
   "outputs": [],
   "source": [
    "X_raw = income_data.iloc[:, :-1]\n",
    "y_raw = income_data.iloc[:, -1]"
   ]
  },
  {
   "cell_type": "code",
   "execution_count": 5,
   "metadata": {},
   "outputs": [],
   "source": [
    "column_encoders = {\n",
    "    1: OneHotEncoder(sparse=False, drop=\"first\"),\n",
    "    3: LabelEncoder(),\n",
    "    5: OneHotEncoder(sparse=False, drop=\"first\"),\n",
    "    6: OneHotEncoder(sparse=False, drop=\"first\"),\n",
    "    7: OneHotEncoder(sparse=False, drop=\"first\"),\n",
    "    8: OneHotEncoder(sparse=False, drop=\"first\"),\n",
    "    9: OneHotEncoder(sparse=False, drop=\"first\"),\n",
    "    13: OneHotEncoder(sparse=False, drop=\"first\"),\n",
    "}\n",
    "\n",
    "def encode_data(data, train=False):\n",
    "    for column in data.columns:\n",
    "        if column in column_encoders:\n",
    "            encoder = column_encoders[column]\n",
    "            if isinstance(encoder, OneHotEncoder):\n",
    "                encoded_column = encoder.fit_transform(data[column].to_numpy().reshape(-1, 1)) if train else encoder.transform(data[column].to_numpy().reshape(-1, 1))\n",
    "                encoded_column_df = pd.DataFrame(encoded_column, columns=encoder.get_feature_names())\n",
    "\n",
    "                data = pd.concat(\n",
    "                    [data.reset_index(drop=True), encoded_column_df.reset_index(drop=True)], axis=1\n",
    "                    ).drop(columns=[column])\n",
    "            elif isinstance(encoder, LabelEncoder):\n",
    "                data[column] = encoder.fit_transform(data[column]) if train else encoder.transform(data[column])\n",
    "    return data\n",
    "\n",
    "X = encode_data(X_raw, train=True)"
   ]
  },
  {
   "cell_type": "code",
   "execution_count": 6,
   "metadata": {},
   "outputs": [],
   "source": [
    "y_encoder = LabelEncoder()\n",
    "y = pd.Series(y_encoder.fit_transform(y_raw), name=\"14\")"
   ]
  },
  {
   "cell_type": "code",
   "execution_count": 7,
   "metadata": {},
   "outputs": [],
   "source": [
    "X_train, X_test, y_train, y_test = train_test_split(X, y)"
   ]
  },
  {
   "cell_type": "code",
   "execution_count": 8,
   "metadata": {},
   "outputs": [
    {
     "output_type": "execute_result",
     "data": {
      "text/plain": [
       "OneVsOneClassifier(estimator=LinearSVC(random_state=0))"
      ]
     },
     "metadata": {},
     "execution_count": 8
    }
   ],
   "source": [
    "model = OneVsOneClassifier(LinearSVC(random_state=0))\n",
    "model.fit(X_train, y_train)"
   ]
  },
  {
   "cell_type": "code",
   "execution_count": 9,
   "metadata": {},
   "outputs": [
    {
     "output_type": "execute_result",
     "data": {
      "text/plain": [
       "array([0, 0, 0, ..., 0, 0, 1])"
      ]
     },
     "metadata": {},
     "execution_count": 9
    }
   ],
   "source": [
    "y_pred = model.predict(X_test)\n",
    "y_pred"
   ]
  },
  {
   "cell_type": "code",
   "execution_count": 10,
   "metadata": {},
   "outputs": [
    {
     "output_type": "execute_result",
     "data": {
      "text/plain": [
       "0.7279946596522224"
      ]
     },
     "metadata": {},
     "execution_count": 10
    }
   ],
   "source": [
    "f1_score(y_test, y_pred, average=\"weighted\")"
   ]
  },
  {
   "cell_type": "code",
   "execution_count": 11,
   "metadata": {},
   "outputs": [
    {
     "output_type": "execute_result",
     "data": {
      "text/plain": [
       "0.7865004641294258"
      ]
     },
     "metadata": {},
     "execution_count": 11
    }
   ],
   "source": [
    "accuracy_score(y_test, y_pred)"
   ]
  },
  {
   "cell_type": "code",
   "execution_count": 12,
   "metadata": {},
   "outputs": [],
   "source": [
    "input_data = ['37', 'Private', '215646', 'HS-grad', '9', 'Never-married', 'Handlers-cleaners', 'Not-in-family', 'White', 'Male', '0', '0', '40', 'United-States']\n",
    "\n",
    "encoded_input_data = encode_data(pd.DataFrame([input_data]))\n",
    "prediction = model.predict(encoded_input_data)"
   ]
  },
  {
   "cell_type": "code",
   "execution_count": 13,
   "metadata": {},
   "outputs": [
    {
     "output_type": "execute_result",
     "data": {
      "text/plain": [
       "'<=50K'"
      ]
     },
     "metadata": {},
     "execution_count": 13
    }
   ],
   "source": [
    "y_encoder.inverse_transform(prediction)[0]"
   ]
  }
 ]
}