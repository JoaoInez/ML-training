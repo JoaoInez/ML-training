{
 "metadata": {
  "language_info": {
   "codemirror_mode": {
    "name": "ipython",
    "version": 3
   },
   "file_extension": ".py",
   "mimetype": "text/x-python",
   "name": "python",
   "nbconvert_exporter": "python",
   "pygments_lexer": "ipython3",
   "version": "3.9.0-final"
  },
  "orig_nbformat": 2,
  "kernelspec": {
   "name": "python3",
   "display_name": "Python 3"
  }
 },
 "nbformat": 4,
 "nbformat_minor": 2,
 "cells": [
  {
   "cell_type": "code",
   "execution_count": 12,
   "metadata": {},
   "outputs": [],
   "source": [
    "import numpy as np\n",
    "from sklearn.datasets import load_boston\n",
    "from sklearn.model_selection import train_test_split\n",
    "from sklearn.svm import SVR\n",
    "from sklearn.metrics import mean_squared_error, explained_variance_score\n",
    "from sklearn.utils import shuffle"
   ]
  },
  {
   "cell_type": "code",
   "execution_count": 13,
   "metadata": {},
   "outputs": [
    {
     "output_type": "execute_result",
     "data": {
      "text/plain": [
       "array([[6.3200e-03, 1.8000e+01, 2.3100e+00, 0.0000e+00, 5.3800e-01,\n",
       "        6.5750e+00, 6.5200e+01, 4.0900e+00, 1.0000e+00, 2.9600e+02,\n",
       "        1.5300e+01, 3.9690e+02, 4.9800e+00],\n",
       "       [2.7310e-02, 0.0000e+00, 7.0700e+00, 0.0000e+00, 4.6900e-01,\n",
       "        6.4210e+00, 7.8900e+01, 4.9671e+00, 2.0000e+00, 2.4200e+02,\n",
       "        1.7800e+01, 3.9690e+02, 9.1400e+00],\n",
       "       [2.7290e-02, 0.0000e+00, 7.0700e+00, 0.0000e+00, 4.6900e-01,\n",
       "        7.1850e+00, 6.1100e+01, 4.9671e+00, 2.0000e+00, 2.4200e+02,\n",
       "        1.7800e+01, 3.9283e+02, 4.0300e+00],\n",
       "       [3.2370e-02, 0.0000e+00, 2.1800e+00, 0.0000e+00, 4.5800e-01,\n",
       "        6.9980e+00, 4.5800e+01, 6.0622e+00, 3.0000e+00, 2.2200e+02,\n",
       "        1.8700e+01, 3.9463e+02, 2.9400e+00],\n",
       "       [6.9050e-02, 0.0000e+00, 2.1800e+00, 0.0000e+00, 4.5800e-01,\n",
       "        7.1470e+00, 5.4200e+01, 6.0622e+00, 3.0000e+00, 2.2200e+02,\n",
       "        1.8700e+01, 3.9690e+02, 5.3300e+00]])"
      ]
     },
     "metadata": {},
     "execution_count": 13
    }
   ],
   "source": [
    "data = load_boston()\n",
    "data.data[:5]"
   ]
  },
  {
   "cell_type": "code",
   "execution_count": 14,
   "metadata": {},
   "outputs": [],
   "source": [
    "X, y = shuffle(data.data, data.target, random_state=0)"
   ]
  },
  {
   "cell_type": "code",
   "execution_count": 15,
   "metadata": {},
   "outputs": [],
   "source": [
    "X_train, X_test, y_train, y_test = train_test_split(X, y)"
   ]
  },
  {
   "cell_type": "code",
   "execution_count": 16,
   "metadata": {},
   "outputs": [
    {
     "output_type": "execute_result",
     "data": {
      "text/plain": [
       "SVR(C=1, kernel='linear')"
      ]
     },
     "metadata": {},
     "execution_count": 16
    }
   ],
   "source": [
    "model = SVR(kernel=\"linear\", C=1, epsilon=0.1)\n",
    "model.fit(X_train, y_train)"
   ]
  },
  {
   "cell_type": "code",
   "execution_count": 17,
   "metadata": {},
   "outputs": [
    {
     "output_type": "execute_result",
     "data": {
      "text/plain": [
       "array([19.91354843, 21.97776493, 26.59692947, 20.59496886, 23.79803073,\n",
       "       19.18407408, 21.37478715, 14.16676304, 17.10196829, 15.50244228,\n",
       "       18.38384343, 19.78845934, 22.32823862, 34.00369214, 34.98769517,\n",
       "       29.06358821,  6.64372958, 25.87685256, 34.52285033, 28.81044204,\n",
       "       34.39936494, 28.79971124, 35.13051575, 26.27278272,  2.6656179 ,\n",
       "       18.19868866, 28.34822048, 18.94889228, 21.25685892, 16.05399456,\n",
       "       23.99958012, 20.56409188, 21.24960529, 23.98273607, 20.88608892,\n",
       "       21.55610493, 21.2500559 , 26.10252156, 20.44811142, 19.50843664,\n",
       "       17.3098828 , 18.54599212, 31.0975992 , 35.09993626, 20.07963692,\n",
       "       19.68964786, 27.29742863, 14.5874601 , 19.62646044, 21.72720991,\n",
       "       18.99479965, 26.98256429, 19.96459524, 13.09018929, 10.81477444,\n",
       "       27.65203725, 14.68433742,  8.2190991 , 26.1048201 , 32.82840358,\n",
       "       24.48139124, 19.59041512, 16.74858669, 14.33557953, 17.34809389,\n",
       "       17.9712603 , 13.20329639, 17.39407221, 42.42787742, 24.03950348,\n",
       "       24.61963665, 25.34218307, 16.57830818, 30.97389257, 21.22548093,\n",
       "       33.81885401, 20.07648029, 21.32055771,  6.98416461, 28.37012077,\n",
       "       16.54139997, 25.7805137 , 22.24151993, 23.26788438, 20.50483909,\n",
       "       42.85928733, 20.46361682, 17.76253967, 21.57412196, 24.78937811,\n",
       "        9.18213026, 15.14545802, 33.61216201,  8.29817318, 24.48298643,\n",
       "       23.17742201, 23.93592767, 21.23202665, 13.94407049, 18.0111426 ,\n",
       "       12.63101134, 16.65072737, 27.9714321 , 26.57763874, 26.89010213,\n",
       "       26.61735333, 18.52304063, 18.88259043, 19.92436872, 17.20618458,\n",
       "       36.28702918, 27.72748478, 23.23209186, 22.16393857, 36.59246729,\n",
       "       19.33025923, 28.40112373, 11.89767819, 21.40327272, 19.3724585 ,\n",
       "       13.3895351 , 17.32022915, 15.79972875, 19.04462164, 20.76331253,\n",
       "       22.82564234, 33.98665386])"
      ]
     },
     "metadata": {},
     "execution_count": 17
    }
   ],
   "source": [
    "y_pred = model.predict(X_test)\n",
    "y_pred"
   ]
  },
  {
   "cell_type": "code",
   "execution_count": 18,
   "metadata": {},
   "outputs": [
    {
     "output_type": "stream",
     "name": "stdout",
     "text": [
      "29.51\n0.7\n"
     ]
    }
   ],
   "source": [
    "print(round(mean_squared_error(y_test, y_pred), 2))\n",
    "print(round(explained_variance_score(y_test, y_pred), 2))"
   ]
  },
  {
   "cell_type": "code",
   "execution_count": 19,
   "metadata": {},
   "outputs": [
    {
     "output_type": "execute_result",
     "data": {
      "text/plain": [
       "17.48647956350674"
      ]
     },
     "metadata": {},
     "execution_count": 19
    }
   ],
   "source": [
    "test_data = [3.7, 0, 18.4, 1, 0.87, 5.95, 91, 2.5052, 26, 666, 20.2, 351.34, 15.27]\n",
    "model.predict([test_data])[0]"
   ]
  }
 ]
}