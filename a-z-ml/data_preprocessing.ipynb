{
 "metadata": {
  "language_info": {
   "codemirror_mode": {
    "name": "ipython",
    "version": 3
   },
   "file_extension": ".py",
   "mimetype": "text/x-python",
   "name": "python",
   "nbconvert_exporter": "python",
   "pygments_lexer": "ipython3",
   "version": "3.9.0-final"
  },
  "orig_nbformat": 2,
  "kernelspec": {
   "name": "python3",
   "display_name": "Python 3"
  }
 },
 "nbformat": 4,
 "nbformat_minor": 2,
 "cells": [
  {
   "cell_type": "code",
   "execution_count": 9,
   "metadata": {},
   "outputs": [],
   "source": [
    "import numpy as np\n",
    "from sklearn import preprocessing"
   ]
  },
  {
   "cell_type": "code",
   "execution_count": 10,
   "metadata": {},
   "outputs": [],
   "source": [
    "input_data = np.array([\n",
    "    [5.1, -2.9, 3.3],\n",
    "    [-1.2, 7.8, -6.1],\n",
    "    [3.9, 0.4, 2.1],\n",
    "    [7.3, -9.9, -4.5]\n",
    "])"
   ]
  },
  {
   "source": [
    "# Binarizer (binarization)\n",
    "\n",
    "Converts any value below the threshold to 0, and any above it to 1"
   ],
   "cell_type": "markdown",
   "metadata": {}
  },
  {
   "cell_type": "code",
   "execution_count": 11,
   "metadata": {},
   "outputs": [
    {
     "output_type": "execute_result",
     "data": {
      "text/plain": [
       "array([[1., 0., 1.],\n",
       "       [0., 1., 0.],\n",
       "       [1., 0., 0.],\n",
       "       [1., 0., 0.]])"
      ]
     },
     "metadata": {},
     "execution_count": 11
    }
   ],
   "source": [
    "data_binarized = preprocessing.Binarizer(threshold=2.1).transform(input_data)\n",
    "data_binarized"
   ]
  },
  {
   "source": [
    "# Scale (mean removal)\n",
    "\n",
    "Standardizes data"
   ],
   "cell_type": "markdown",
   "metadata": {}
  },
  {
   "source": [
    "print(\"Original data\")\n",
    "print(\"Mean = {}\".format(input_data.mean(axis=0)))\n",
    "print(\"Standart deviation = {}\".format(input_data.std(axis=0)))"
   ],
   "cell_type": "code",
   "metadata": {},
   "execution_count": 12,
   "outputs": [
    {
     "output_type": "stream",
     "name": "stdout",
     "text": [
      "Original data\nMean = [ 3.775 -1.15  -1.3  ]\nStandart deviation = [3.12039661 6.36651396 4.0620192 ]\n"
     ]
    }
   ]
  },
  {
   "cell_type": "code",
   "execution_count": 13,
   "metadata": {},
   "outputs": [
    {
     "output_type": "stream",
     "name": "stdout",
     "text": [
      "After scale\nMean = [1.11022302e-16 0.00000000e+00 2.77555756e-17]\nStandart deviation = [1. 1. 1.]\n"
     ]
    },
    {
     "output_type": "execute_result",
     "data": {
      "text/plain": [
       "array([[ 0.42462551, -0.2748757 ,  1.13244172],\n",
       "       [-1.59434861,  1.40579288, -1.18167831],\n",
       "       [ 0.04005901,  0.24346134,  0.83702214],\n",
       "       [ 1.12966409, -1.37437851, -0.78778554]])"
      ]
     },
     "metadata": {},
     "execution_count": 13
    }
   ],
   "source": [
    "data_scaled = preprocessing.scale(input_data)\n",
    "print(\"After scale\")\n",
    "print(\"Mean = {}\".format(data_scaled.mean(axis=0)))\n",
    "print(\"Standart deviation = {}\".format(data_scaled.std(axis=0)))\n",
    "data_scaled"
   ]
  },
  {
   "source": [
    "# Min Max Scale (scaling)\n",
    "\n",
    "Scales data to a given range"
   ],
   "cell_type": "markdown",
   "metadata": {}
  },
  {
   "cell_type": "code",
   "execution_count": 14,
   "metadata": {},
   "outputs": [
    {
     "output_type": "execute_result",
     "data": {
      "text/plain": [
       "array([[0.74117647, 0.39548023, 1.        ],\n",
       "       [0.        , 1.        , 0.        ],\n",
       "       [0.6       , 0.5819209 , 0.87234043],\n",
       "       [1.        , 0.        , 0.17021277]])"
      ]
     },
     "metadata": {},
     "execution_count": 14
    }
   ],
   "source": [
    "minmax_scaler = preprocessing.MinMaxScaler(feature_range=(0, 1))\n",
    "dsmm = minmax_scaler.fit_transform(input_data)\n",
    "dsmm"
   ]
  },
  {
   "source": [
    "# Normalize (normalization)\n",
    "\n",
    "Modifies the values so that they sum up to 1"
   ],
   "cell_type": "markdown",
   "metadata": {}
  },
  {
   "cell_type": "code",
   "execution_count": 15,
   "metadata": {},
   "outputs": [
    {
     "output_type": "stream",
     "name": "stdout",
     "text": [
      "L1 normalization\n[[ 0.45132743 -0.25663717  0.2920354 ]\n [-0.0794702   0.51655629 -0.40397351]\n [ 0.609375    0.0625      0.328125  ]\n [ 0.33640553 -0.4562212  -0.20737327]]\nL2 normalization\n[[ 0.75765788 -0.43082507  0.49024922]\n [-0.12030718  0.78199664 -0.61156148]\n [ 0.87690281  0.08993875  0.47217844]\n [ 0.55734935 -0.75585734 -0.34357152]]\n"
     ]
    }
   ],
   "source": [
    "data_normalized_l1 = preprocessing.normalize(input_data, norm=\"l1\")\n",
    "data_normalized_l2 = preprocessing.normalize(input_data, norm=\"l2\")\n",
    "\n",
    "print(\"L1 normalization\")\n",
    "print(data_normalized_l1)\n",
    "print(\"L2 normalization\")\n",
    "print(data_normalized_l2)"
   ]
  }
 ]
}